{
 "cells": [
  {
   "cell_type": "markdown",
   "metadata": {},
   "source": [
    "## beta_d | beta_t 参数调整"
   ]
  },
  {
   "cell_type": "code",
   "execution_count": 92,
   "metadata": {},
   "outputs": [],
   "source": [
    "import numpy as np\n",
    "import matplotlib.pyplot as plt\n",
    "import os\n",
    "from collections import defaultdict\n",
    "from sklearn.metrics import precision_recall_curve, roc_curve\n",
    "from sklearn.metrics import auc"
   ]
  },
  {
   "cell_type": "code",
   "execution_count": 104,
   "metadata": {},
   "outputs": [
    {
     "name": "stdout",
     "output_type": "stream",
     "text": [
      "(445, 664)\n"
     ]
    }
   ],
   "source": [
    "BASE_DIR = os.path.abspath('output')\n",
    "def load_para(dataset):\n",
    "    paras = []\n",
    "    BASE_DIR = os.path.abspath('output')\n",
    "    print BASE_DIR\n",
    "    file_dir = os.path.join(BASE_DIR, dataset)\n",
    "    ListDIR = os.listdir(BASE_DIR)\n",
    "    \n",
    "    for para in ListDIR:\n",
    "        if para.find(dataset) > -1:\n",
    "            if para.find('npz') > -1:\n",
    "                try:\n",
    "                    paras.append(np.load(os.path.join(BASE_DIR, para)))\n",
    "                finally:\n",
    "                    print 'ok'\n",
    "            print para\n",
    "            try:\n",
    "                paras.append(np.loadtxt(os.path.join(BASE_DIR, para), delimiter=',', encoding='utf-8'))\n",
    "            finally:\n",
    "                print \"okok\"\n",
    "    return paras\n",
    "    \n",
    "# load_para('_e')\n",
    "dt_name = np.load(os.path.join(BASE_DIR, 'dt_name_e.npz'))\n",
    "intMat = np.loadtxt(os.path.join(BASE_DIR, 'intMat_e'), delimiter=',')\n",
    "drugMat = np.loadtxt(os.path.join(BASE_DIR, 'drugMat_e'), delimiter=',')\n",
    "targetMat = np.loadtxt(os.path.join(BASE_DIR, 'targetMat_e'), delimiter=',')\n",
    "method = \"netlaprls\"\n",
    "print intMat.shape"
   ]
  },
  {
   "cell_type": "code",
   "execution_count": null,
   "metadata": {},
   "outputs": [],
   "source": []
  },
  {
   "cell_type": "code",
   "execution_count": 95,
   "metadata": {},
   "outputs": [],
   "source": [
    "class NetLapRLS:\n",
    "    def __init__(self, gamma_d=10, gamma_t=10, beta_d=1e-5, beta_t=1e-5):\n",
    "        self.gamma_d = float(gamma_d)\n",
    "        self.gamma_t = float(gamma_t)\n",
    "        self.beta_d = float(beta_d)\n",
    "        self.beta_t = float(beta_t)\n",
    "\n",
    "    def fix_model(self, W, intMat, drugMat, targetMat, seed=None):\n",
    "        R = W*intMat\n",
    "        m, n = R.shape\n",
    "        # print m,n\n",
    "        # 修正similarity matrix --> symmetric matrix\n",
    "        drugMat = (drugMat + drugMat.T)/2.\n",
    "        targetMat = (targetMat + targetMat.T)/2.\n",
    "\n",
    "        # 药物相似度矩阵\n",
    "        Wd = (drugMat+self.gamma_d*np.dot(R, R.T)) / (1.0+self.gamma_d)\n",
    "        Wt = (targetMat+self.gamma_t*np.dot(R.T, R)) / (1.0+self.gamma_t)\n",
    "        # 去除主对角线上自身的评分e\n",
    "        Wd = Wd-np.diag(np.diag(Wd))\n",
    "        Wt = Wt-np.diag(np.diag(Wt))\n",
    "        # D是一个wd的按照列相加 得到的为列表 长度为drug 开根号 的对角矩阵  D=Dd^(-1/2)\n",
    "        ## Dd节点的度矩阵\n",
    "        # RuntimeWarning: divide by zero encountered in divide\n",
    "        Wd_srow = np.sum(Wd, axis=1, dtype=np.float64)\n",
    "        # Wd_srow[np.where(Wd_srow == 0)] == 0.00001\n",
    "        D = np.diag(1.0/np.sqrt(Wd_srow))\n",
    "        Ld = np.eye(m) - np.dot(np.dot(D, Wd), D)  # Ld = Indxnd - DwdD\n",
    "\n",
    "        # 将 0 -> 0.00001\n",
    "        Wt_srow = np.sum(Wt, axis=1, dtype=np.float64)\n",
    "        # Wt_srow[np.where(Wt_srow == 0)] = 0.00001\n",
    "\n",
    "        # print np.where(Wt_srow == 0)  # 检查np.sum(Wt,axis=1))是否有0\n",
    "\n",
    "        D = np.diag(1.0/np.sqrt(Wt_srow))\n",
    "        Lt = np.eye(n) - np.dot(np.dot(D, Wt), D)\n",
    "\n",
    "        # np.linalg为行业标准级fortran库  inv求矩阵的逆  X = (wd + beta_d*wd)^(-1)\n",
    "        X = np.linalg.inv(Wd+self.beta_d*np.dot(Ld, Wd))\n",
    "        Fd = np.dot(np.dot(Wd, X), R)\n",
    "        X = np.linalg.inv(Wt+self.beta_t*np.dot(Lt, Wt))\n",
    "        Ft = np.dot(np.dot(Wt, X), R.T)\n",
    "        self.predictR = 0.5*(Fd+Ft.T)\n",
    "\n",
    "    def predict_scores(self, test_data, N):\n",
    "        inx = np.array(test_data)\n",
    "        return self.predictR[inx[:, 0], inx[:, 1]]\n",
    "\n",
    "    def evaluation(self, test_data, test_label):\n",
    "        scores = self.predictR[test_data[:, 0], test_data[:, 1]]\n",
    "        prec, rec, thr = precision_recall_curve(test_label, scores)\n",
    "        aupr_val = auc(rec, prec)\n",
    "        fpr, tpr, thr = roc_curve(test_label, scores)\n",
    "        auc_val = auc(fpr, tpr)\n",
    "        return aupr_val, auc_val\n",
    "\n",
    "    def __str__(self):\n",
    "        return \"Model: NetLapRLS, gamma_d:%s, gamma_t:%s, beta_d:%s, beta_t:%s\" \\\n",
    "               % (self.gamma_d, self.gamma_t, self.beta_d, self.beta_t)\n",
    "    \n",
    "    \n",
    " # cv的模式cv1 cv2 cv3\n",
    "def cross_validation(intMat, seeds, cv=0, num=10):\n",
    "    cv_data = defaultdict(list)\n",
    "    # print cv_data\n",
    "    for seed in seeds:\n",
    "        num_drugs, num_targets = intMat.shape\n",
    "        prng = np.random.RandomState(seed)\n",
    "        if cv == 0:\n",
    "            index = prng.permutation(num_drugs)\n",
    "        if cv == 1:\n",
    "            index = prng.permutation(intMat.size)\n",
    "        step = index.size/num\n",
    "        for i in xrange(num):\n",
    "            if i < num-1:\n",
    "                ii = index[i*step:(i+1)*step]\n",
    "            else:\n",
    "                ii = index[i*step:]\n",
    "            if cv == 0:\n",
    "                test_data = np.array([[k, j] for k in ii for j in xrange(num_targets)], dtype=np.int32)\n",
    "            elif cv == 1:\n",
    "                test_data = np.array([[k/num_targets, k % num_targets] for k in ii], dtype=np.int32)\n",
    "            x, y = test_data[:, 0], test_data[:, 1]\n",
    "            test_label = intMat[x, y]\n",
    "            W = np.ones(intMat.shape)\n",
    "            W[x, y] = 0\n",
    "            cv_data[seed].append((W, test_data, test_label))\n",
    "    return cv_data\n",
    "   \n",
    "# 训练模型\n",
    "def train(model, cv_data, intMat, drugMat, targetMat):\n",
    "    aupr, auc = [], []\n",
    "    for seed in cv_data.keys():\n",
    "        for W, test_data, test_label in cv_data[seed]:\n",
    "            model.fix_model(W, intMat, drugMat, targetMat, seed)\n",
    "            aupr_val, auc_val = model.evaluation(test_data, test_label)\n",
    "            aupr.append(aupr_val)\n",
    "            auc.append(auc_val)\n",
    "    return np.array(aupr, dtype=np.float64), np.array(auc, dtype=np.float64)\n",
    "\n",
    "\n",
    "def netlaprls_cv_eval(method, cv_data, intMat, drugMat, targetMat, cvs):\n",
    "    max_auc, auc_opt = 0, []\n",
    "    for x in np.logspace(-6, 3, 10):  # [-6, 2]\n",
    "        for y in np.logspace(-6, 3, 10):  # [-6, 2]\n",
    "            model = NetLapRLS(gamma_d=10, gamma_t=10, beta_d=x, beta_t=y)\n",
    "            aupr_vec, auc_vec = train(model, cv_data, intMat, drugMat, targetMat)\n",
    "            print aupr_vec, auc_vec\n",
    "            print '**'*20\n",
    "\n",
    "# cv_data = cross_validation(intMat, [22,], cv=1, num=10)\n",
    "# netlaprls_cv_eval('netlaprls', cv_data, intMat, drugMat, targetMat, cvs=1 )"
   ]
  },
  {
   "cell_type": "code",
   "execution_count": 78,
   "metadata": {},
   "outputs": [],
   "source": [
    "def netlaprls_cv_eval(method, dataset, cv_data, intMat, drugMat, targetMat, cvs):\n",
    "    max_auc, auc_opt = 0, []\n",
    "    for x in np.logspace(-6, 3, 10):  # [-6, 2]\n",
    "        for y in np.logspace(-6, 3, 10):  # [-6, 2]\n",
    "            tic = time.clock()\n",
    "            model = NetLapRLS(gamma_d=10, gamma_t=10, beta_d=x, beta_t=y)\n",
    "            cmd = \"Dataset:\"+dataset+\" CVS: \"+str(cvs)+\"\\n\"+str(model)\n",
    "            print cmd\n",
    "            aupr_vec, auc_vec = train(model, cv_data, X, D, T)\n",
    "            aupr_avg, aupr_conf = mean_confidence_interval(aupr_vec)\n",
    "            auc_avg, auc_conf = mean_confidence_interval(auc_vec)\n",
    "            print \"auc:%.6f, aupr: %.6f, auc_conf:%.6f, aupr_conf:%.6f, Time:%.6f\\n\" % (auc_avg, aupr_avg, auc_conf, aupr_conf, time.clock()-tic)\n",
    "            if auc_avg > max_auc:\n",
    "                max_auc = auc_avg\n",
    "                auc_opt = [cmd, auc_avg, aupr_avg, auc_conf, aupr_conf]\n",
    "    cmd = \"Optimal parameter setting:\\n%s\\n\" % auc_opt[0]\n",
    "    cmd += \"auc: %.6f, aupr: %.6f, auc_conf:%.6f, aupr_conf:%.6f\\n\" % (auc_opt[1], auc_opt[2], auc_opt[3], auc_opt[4])"
   ]
  },
  {
   "cell_type": "code",
   "execution_count": null,
   "metadata": {},
   "outputs": [],
   "source": []
  },
  {
   "cell_type": "code",
   "execution_count": 73,
   "metadata": {},
   "outputs": [
    {
     "ename": "NameError",
     "evalue": "name 'f' is not defined",
     "output_type": "error",
     "traceback": [
      "\u001b[0;31m\u001b[0m",
      "\u001b[0;31mNameError\u001b[0mTraceback (most recent call last)",
      "\u001b[0;32m<ipython-input-73-ed5d92b8cfc9>\u001b[0m in \u001b[0;36m<module>\u001b[0;34m()\u001b[0m\n\u001b[1;32m      3\u001b[0m \u001b[0my\u001b[0m \u001b[0;34m=\u001b[0m \u001b[0mnp\u001b[0m\u001b[0;34m.\u001b[0m\u001b[0mlinspace\u001b[0m\u001b[0;34m(\u001b[0m\u001b[0;34m-\u001b[0m\u001b[0;36m3\u001b[0m\u001b[0;34m,\u001b[0m\u001b[0;36m3\u001b[0m\u001b[0;34m,\u001b[0m\u001b[0mn\u001b[0m\u001b[0;34m)\u001b[0m\u001b[0;34m\u001b[0m\u001b[0m\n\u001b[1;32m      4\u001b[0m \u001b[0mX\u001b[0m\u001b[0;34m,\u001b[0m\u001b[0mY\u001b[0m \u001b[0;34m=\u001b[0m \u001b[0mnp\u001b[0m\u001b[0;34m.\u001b[0m\u001b[0mmeshgrid\u001b[0m\u001b[0;34m(\u001b[0m\u001b[0mx\u001b[0m\u001b[0;34m,\u001b[0m\u001b[0my\u001b[0m\u001b[0;34m)\u001b[0m\u001b[0;34m\u001b[0m\u001b[0m\n\u001b[0;32m----> 5\u001b[0;31m \u001b[0mplt\u001b[0m\u001b[0;34m.\u001b[0m\u001b[0mcontourf\u001b[0m\u001b[0;34m(\u001b[0m\u001b[0mX\u001b[0m\u001b[0;34m,\u001b[0m\u001b[0mY\u001b[0m\u001b[0;34m,\u001b[0m\u001b[0mf\u001b[0m\u001b[0;34m(\u001b[0m\u001b[0mX\u001b[0m\u001b[0;34m,\u001b[0m\u001b[0mY\u001b[0m\u001b[0;34m)\u001b[0m\u001b[0;34m,\u001b[0m \u001b[0;36m8\u001b[0m\u001b[0;34m,\u001b[0m \u001b[0malpha\u001b[0m\u001b[0;34m=\u001b[0m\u001b[0;36m0.75\u001b[0m\u001b[0;34m,\u001b[0m \u001b[0mcmap\u001b[0m\u001b[0;34m=\u001b[0m\u001b[0mplt\u001b[0m\u001b[0;34m.\u001b[0m\u001b[0mcm\u001b[0m\u001b[0;34m.\u001b[0m\u001b[0mhot\u001b[0m\u001b[0;34m)\u001b[0m\u001b[0;34m\u001b[0m\u001b[0m\n\u001b[0m\u001b[1;32m      6\u001b[0m \u001b[0;34m\u001b[0m\u001b[0m\n\u001b[1;32m      7\u001b[0m \u001b[0mC\u001b[0m \u001b[0;34m=\u001b[0m \u001b[0mplt\u001b[0m\u001b[0;34m.\u001b[0m\u001b[0mcontour\u001b[0m\u001b[0;34m(\u001b[0m\u001b[0mX\u001b[0m\u001b[0;34m,\u001b[0m\u001b[0mY\u001b[0m\u001b[0;34m,\u001b[0m\u001b[0mf\u001b[0m\u001b[0;34m(\u001b[0m\u001b[0mX\u001b[0m\u001b[0;34m,\u001b[0m \u001b[0mY\u001b[0m\u001b[0;34m)\u001b[0m\u001b[0;34m,\u001b[0m \u001b[0;36m8\u001b[0m\u001b[0;34m,\u001b[0m \u001b[0mcolors\u001b[0m\u001b[0;34m=\u001b[0m\u001b[0;34m'black'\u001b[0m\u001b[0;34m,\u001b[0m \u001b[0mlinewidth\u001b[0m\u001b[0;34m=\u001b[0m\u001b[0;36m5\u001b[0m\u001b[0;34m)\u001b[0m\u001b[0;34m\u001b[0m\u001b[0m\n",
      "\u001b[0;31mNameError\u001b[0m: name 'f' is not defined"
     ]
    }
   ],
   "source": [
    "n = 256\n",
    "x = np.linspace(-3,3,n)\n",
    "y = np.linspace(-3,3,n)\n",
    "X,Y = np.meshgrid(x,y)\n",
    "plt.contourf(X,Y,f(X,Y), 8, alpha=0.75, cmap=plt.cm.hot)\n",
    "\n",
    "C = plt.contour(X,Y,f(X, Y), 8, colors='black', linewidth=5)\n",
    "plt.xticks()\n",
    "plt.yticks()\n",
    "plt.show()"
   ]
  },
  {
   "cell_type": "code",
   "execution_count": 111,
   "metadata": {},
   "outputs": [
    {
     "name": "stdout",
     "output_type": "stream",
     "text": [
      "295480\n",
      "[231556 215777 188854 ...  24932 162752 252036]\n",
      "29548\n"
     ]
    }
   ],
   "source": [
    "prng = np.random.RandomState(22)\n",
    "print intMat.size\n",
    "index = prng.permutation(intMat.size)\n",
    "print index\n",
    "step = index.size/10\n",
    "print step"
   ]
  },
  {
   "cell_type": "code",
   "execution_count": 151,
   "metadata": {},
   "outputs": [
    {
     "name": "stdout",
     "output_type": "stream",
     "text": [
      "(29548, 2)\n",
      "(29548,) (29548,)\n",
      "[0. 0. 0. ... 0. 0. 0.]\n"
     ]
    }
   ],
   "source": [
    "ii = index[0:step]\n",
    "test_data = np.array([[k/664, k%664] for k in ii])\n",
    "print test_data.shape\n",
    "x, y  = test_data[:,0], test_data[:,1]\n",
    "print x.shape, y.shape\n",
    "test_label = intMat[x, y]\n",
    "print test_label\n",
    "W = np.ones(intMat.shape)\n"
   ]
  },
  {
   "cell_type": "code",
   "execution_count": 148,
   "metadata": {},
   "outputs": [],
   "source": [
    "x = np.arange(16).reshape((4,4))"
   ]
  },
  {
   "cell_type": "code",
   "execution_count": 149,
   "metadata": {},
   "outputs": [],
   "source": [
    "y = x[[2,3], [2,1]]"
   ]
  },
  {
   "cell_type": "code",
   "execution_count": 150,
   "metadata": {},
   "outputs": [
    {
     "data": {
      "text/plain": [
       "array([10, 13])"
      ]
     },
     "execution_count": 150,
     "metadata": {},
     "output_type": "execute_result"
    }
   ],
   "source": [
    "y"
   ]
  },
  {
   "cell_type": "code",
   "execution_count": null,
   "metadata": {},
   "outputs": [],
   "source": []
  }
 ],
 "metadata": {
  "kernelspec": {
   "display_name": "Python 2",
   "language": "python",
   "name": "python2"
  },
  "language_info": {
   "codemirror_mode": {
    "name": "ipython",
    "version": 2
   },
   "file_extension": ".py",
   "mimetype": "text/x-python",
   "name": "python",
   "nbconvert_exporter": "python",
   "pygments_lexer": "ipython2",
   "version": "2.7.15"
  }
 },
 "nbformat": 4,
 "nbformat_minor": 2
}

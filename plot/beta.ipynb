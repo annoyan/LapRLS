{
 "cells": [
  {
   "cell_type": "markdown",
   "metadata": {},
   "source": [
    "## beta_d | beta_t 参数调整"
   ]
  },
  {
   "cell_type": "code",
   "execution_count": 39,
   "metadata": {},
   "outputs": [],
   "source": [
    "import numpy as np\n",
    "import matplotlib.plot as plt\n",
    "import os"
   ]
  },
  {
   "cell_type": "code",
   "execution_count": 65,
   "metadata": {},
   "outputs": [],
   "source": [
    "BASE_DIR = os.path.abspath('output')\n",
    "def load_para(dataset):\n",
    "    paras = []\n",
    "    BASE_DIR = os.path.abspath('output')\n",
    "    print BASE_DIR\n",
    "    file_dir = os.path.join(BASE_DIR, dataset)\n",
    "    ListDIR = os.listdir(BASE_DIR)\n",
    "    \n",
    "    for para in ListDIR:\n",
    "        if para.find(dataset) > -1:\n",
    "            if para.find('npz') > -1:\n",
    "                try:\n",
    "                    paras.append(np.load(os.path.join(BASE_DIR, para)))\n",
    "                finally:\n",
    "                    print 'ok'\n",
    "            print para\n",
    "            try:\n",
    "                paras.append(np.loadtxt(os.path.join(BASE_DIR, para), delimiter=',', encoding='utf-8'))\n",
    "            finally:\n",
    "                print \"okok\"\n",
    "    return paras\n",
    "    \n",
    "# load_para('_e')\n",
    "dt_name = np.load(os.path.join(BASE_DIR, 'dt_name_e.npz'))\n",
    "intMat = np.loadtxt(os.path.join(BASE_DIR, 'intMat_e'), delimiter=',')\n",
    "drugMat = np.loadtxt(os.path.join(BASE_DIR, 'drugMat_e'), delimiter=',')\n",
    "targetMat = np.loadtxt(os.path.join(BASE_DIR, 'targetMat_e'), delimiter=',')\n",
    "method = \"netlaprls\""
   ]
  },
  {
   "cell_type": "code",
   "execution_count": 67,
   "metadata": {},
   "outputs": [],
   "source": [
    "def netlaprls_cv_eval(method, dataset, cv_data, intMat, drugMat, targetMat, cvs):\n",
    "    max_auc, auc_opt = 0, []\n",
    "    for x in np.logspace(-6, 3, 10):  # [-6, 2]\n",
    "        for y in np.logspace(-6, 3, 10):  # [-6, 2]\n",
    "            tic = time.clock()\n",
    "            model = NetLapRLS(gamma_d=10, gamma_t=10, beta_d=x, beta_t=y)\n",
    "            cmd = \"Dataset:\"+dataset+\" CVS: \"+str(cvs)+\"\\n\"+str(model)\n",
    "            print cmd\n",
    "            aupr_vec, auc_vec = train(model, cv_data, X, D, T)\n",
    "            aupr_avg, aupr_conf = mean_confidence_interval(aupr_vec)\n",
    "            auc_avg, auc_conf = mean_confidence_interval(auc_vec)\n",
    "            print \"auc:%.6f, aupr: %.6f, auc_conf:%.6f, aupr_conf:%.6f, Time:%.6f\\n\" % (auc_avg, aupr_avg, auc_conf, aupr_conf, time.clock()-tic)\n",
    "            if auc_avg > max_auc:\n",
    "                max_auc = auc_avg\n",
    "                auc_opt = [cmd, auc_avg, aupr_avg, auc_conf, aupr_conf]\n",
    "    cmd = \"Optimal parameter setting:\\n%s\\n\" % auc_opt[0]\n",
    "    cmd += \"auc: %.6\""
   ]
  },
  {
   "cell_type": "code",
   "execution_count": null,
   "metadata": {},
   "outputs": [],
   "source": []
  }
 ],
 "metadata": {
  "kernelspec": {
   "display_name": "Python 2",
   "language": "python",
   "name": "python2"
  },
  "language_info": {
   "codemirror_mode": {
    "name": "ipython",
    "version": 2
   },
   "file_extension": ".py",
   "mimetype": "text/x-python",
   "name": "python",
   "nbconvert_exporter": "python",
   "pygments_lexer": "ipython2",
   "version": "2.7.15"
  }
 },
 "nbformat": 4,
 "nbformat_minor": 2
}
